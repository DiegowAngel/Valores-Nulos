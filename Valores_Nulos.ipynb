{
  "nbformat": 4,
  "nbformat_minor": 0,
  "metadata": {
    "colab": {
      "provenance": [],
      "authorship_tag": "ABX9TyNNT4n5V/ohIhsn+2bUZNKs",
      "include_colab_link": true
    },
    "kernelspec": {
      "name": "python3",
      "display_name": "Python 3"
    },
    "language_info": {
      "name": "python"
    }
  },
  "cells": [
    {
      "cell_type": "markdown",
      "metadata": {
        "id": "view-in-github",
        "colab_type": "text"
      },
      "source": [
        "<a href=\"https://colab.research.google.com/github/DiegowAngel/Valores-Nulos/blob/main/Valores_Nulos.ipynb\" target=\"_parent\"><img src=\"https://colab.research.google.com/assets/colab-badge.svg\" alt=\"Open In Colab\"/></a>"
      ]
    },
    {
      "cell_type": "code",
      "execution_count": null,
      "metadata": {
        "id": "WHgBr9OQZn2W"
      },
      "outputs": [],
      "source": [
        "# Se importan las librerías necesarias\n",
        "import pandas as pd\n",
        "import numpy as np\n",
        "import matplotlib.pyplot as plt"
      ]
    },
    {
      "cell_type": "code",
      "source": [
        "#Cargamos csv\n",
        "from google.colab import files\n",
        "!wget https://github.com/DiegowAngel/Valores-Nulos/blob/main/Ventas_totales.csv\n",
        "# Utilicé el método wget debido a que me resulta más cómodo que seleccionar el archivo desde mi ordenador"
      ],
      "metadata": {
        "id": "OPIg-RgiZwVk"
      },
      "execution_count": null,
      "outputs": []
    },
    {
      "cell_type": "code",
      "source": [
        "dt = pd.read_csv(\"Ventas_totales.csv\")\n",
        "dt.head(5)"
      ],
      "metadata": {
        "id": "qrMxkrteeqPK"
      },
      "execution_count": null,
      "outputs": []
    },
    {
      "cell_type": "code",
      "source": [
        "# Se identifican los valores nulos presentes en el programa\n",
        "v_n=dt.isnull().sum()\n",
        "v_n"
      ],
      "metadata": {
        "id": "l6CXO9nKezSd"
      },
      "execution_count": null,
      "outputs": []
    },
    {
      "cell_type": "code",
      "source": [
        "# Limpieza por promedio\n",
        "dt[\"tarjetas_debito\"]=dt[\"tarjetas_debito\"].fillna(round(dt[\"tarjetas_debito\"].mean(),1))\n",
        "dt[\"tarjetas_credito\"]=dt[\"tarjetas_credito\"].fillna(round(dt[\"tarjetas_credito\"].mean(),1))\n",
        "# Se sustituye por medio del promedio, los valores de \"tarjetas debito\" y \"tarjetas credito\""
      ],
      "metadata": {
        "id": "grsu06qQfVK6"
      },
      "execution_count": null,
      "outputs": []
    },
    {
      "cell_type": "code",
      "source": [
        "v_n=dt.isnull().sum()\n",
        "v_n"
      ],
      "metadata": {
        "id": "0cH9Cosmfl62"
      },
      "execution_count": null,
      "outputs": []
    },
    {
      "cell_type": "code",
      "source": [
        "# Limpieza por mediana\n",
        "dt[\"salon_ventas\"]=dt[\"salon_ventas\"].fillna(round(dt[\"salon_ventas\"].median(),1))\n",
        "# Se sustituye por medio de la mediana, los valores de \"salon_ventas\""
      ],
      "metadata": {
        "id": "KerM2jqPhIGW"
      },
      "execution_count": null,
      "outputs": []
    },
    {
      "cell_type": "code",
      "source": [
        "v_n=dt.isnull().sum()\n",
        "v_n"
      ],
      "metadata": {
        "id": "7rKKZQw4iahZ"
      },
      "execution_count": null,
      "outputs": []
    },
    {
      "cell_type": "code",
      "source": [
        "# Sustitución por constante\n",
        "dt[\"electronicos_articulos_hogar\"]=dt[\"electronicos_articulos_hogar\"].fillna(1838507.096)\n",
        "# Se sustituye por una constante (1838507.096), esta constante la tomé de la base de datos."
      ],
      "metadata": {
        "id": "x2Va5T2Cisf1"
      },
      "execution_count": null,
      "outputs": []
    },
    {
      "cell_type": "code",
      "source": [
        "v_n=dt.isnull().sum()\n",
        "v_n"
      ],
      "metadata": {
        "id": "Ybhg9wp4k4Bl"
      },
      "execution_count": null,
      "outputs": []
    },
    {
      "cell_type": "code",
      "source": [
        "# Sustitución por string\n",
        "dt[\"subtotal_ventas_alimentos_bebidas\"]=dt[\"subtotal_ventas_alimentos_bebidas\"].fillna(\"Hola soy un string de relleno\")\n",
        "# Se sustituye por string una sola fila \"subtotal ventas alimentos bebidas\""
      ],
      "metadata": {
        "id": "fJ56MVL2i7Gj"
      },
      "execution_count": null,
      "outputs": []
    },
    {
      "cell_type": "code",
      "source": [
        "v_n=dt.isnull().sum()\n",
        "v_n"
      ],
      "metadata": {
        "id": "n-OYt29kk4-5"
      },
      "execution_count": null,
      "outputs": []
    },
    {
      "cell_type": "code",
      "source": [
        "# Forward fill\n",
        "dt[\"otros\"]=dt[\"otros\"].fillna(method=\"ffill\")\n",
        "# Se utiliza el método forward fill, para rellenar parte de las últimas filas faltantes"
      ],
      "metadata": {
        "id": "seABcrDIjr74"
      },
      "execution_count": null,
      "outputs": []
    },
    {
      "cell_type": "code",
      "source": [
        "v_n=dt.isnull().sum()\n",
        "v_n"
      ],
      "metadata": {
        "id": "EmUhMlb6k5lQ"
      },
      "execution_count": null,
      "outputs": []
    },
    {
      "cell_type": "code",
      "source": [
        "# Backward fill\n",
        "dt[\"indumentaria_calzado_textiles_hogar\"]=dt[\"indumentaria_calzado_textiles_hogar\"].fillna(method=\"bfill\")\n",
        "# Se utiliza el método backward fill, para rellenar parte de las últimas filas faltantes"
      ],
      "metadata": {
        "id": "mB0bQZIYj48H"
      },
      "execution_count": null,
      "outputs": []
    },
    {
      "cell_type": "code",
      "source": [
        "v_n=dt.isnull().sum()\n",
        "v_n"
      ],
      "metadata": {
        "id": "YEFVdFCNk6IE"
      },
      "execution_count": null,
      "outputs": []
    },
    {
      "cell_type": "code",
      "source": [
        "# El cazador de Nans, el DROPNA\n",
        "# En este punto se utiliza DROPNA debido a que se considera que la cantidad de datos restantes no es tan relevante (son filas con 1 solo dato nulo)\n",
        "dt=dt.dropna()\n",
        "v_n=dt.isnull().sum()\n",
        "v_n"
      ],
      "metadata": {
        "id": "W4xjnnJokHJm"
      },
      "execution_count": null,
      "outputs": []
    },
    {
      "cell_type": "code",
      "source": [
        "dt.to_csv(\"DatosProcesados.csv\")\n",
        "from google.colab import files\n",
        "files.download(\"DatosProcesados.csv\")\n"
      ],
      "metadata": {
        "colab": {
          "base_uri": "https://localhost:8080/",
          "height": 17
        },
        "id": "AHxJxcPal_NW",
        "outputId": "0bd003ce-3968-4b59-ac80-e59e8119741b"
      },
      "execution_count": null,
      "outputs": [
        {
          "output_type": "display_data",
          "data": {
            "text/plain": [
              "<IPython.core.display.Javascript object>"
            ],
            "application/javascript": [
              "\n",
              "    async function download(id, filename, size) {\n",
              "      if (!google.colab.kernel.accessAllowed) {\n",
              "        return;\n",
              "      }\n",
              "      const div = document.createElement('div');\n",
              "      const label = document.createElement('label');\n",
              "      label.textContent = `Downloading \"${filename}\": `;\n",
              "      div.appendChild(label);\n",
              "      const progress = document.createElement('progress');\n",
              "      progress.max = size;\n",
              "      div.appendChild(progress);\n",
              "      document.body.appendChild(div);\n",
              "\n",
              "      const buffers = [];\n",
              "      let downloaded = 0;\n",
              "\n",
              "      const channel = await google.colab.kernel.comms.open(id);\n",
              "      // Send a message to notify the kernel that we're ready.\n",
              "      channel.send({})\n",
              "\n",
              "      for await (const message of channel.messages) {\n",
              "        // Send a message to notify the kernel that we're ready.\n",
              "        channel.send({})\n",
              "        if (message.buffers) {\n",
              "          for (const buffer of message.buffers) {\n",
              "            buffers.push(buffer);\n",
              "            downloaded += buffer.byteLength;\n",
              "            progress.value = downloaded;\n",
              "          }\n",
              "        }\n",
              "      }\n",
              "      const blob = new Blob(buffers, {type: 'application/binary'});\n",
              "      const a = document.createElement('a');\n",
              "      a.href = window.URL.createObjectURL(blob);\n",
              "      a.download = filename;\n",
              "      div.appendChild(a);\n",
              "      a.click();\n",
              "      div.remove();\n",
              "    }\n",
              "  "
            ]
          },
          "metadata": {}
        },
        {
          "output_type": "display_data",
          "data": {
            "text/plain": [
              "<IPython.core.display.Javascript object>"
            ],
            "application/javascript": [
              "download(\"download_1a742bc7-7d82-40c1-a9f8-93ac9c02f016\", \"DatosProcesados.csv\", 18268)"
            ]
          },
          "metadata": {}
        }
      ]
    }
  ]
}