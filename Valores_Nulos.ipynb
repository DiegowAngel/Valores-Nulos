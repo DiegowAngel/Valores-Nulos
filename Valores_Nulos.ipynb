{
  "nbformat": 4,
  "nbformat_minor": 0,
  "metadata": {
    "colab": {
      "provenance": [],
      "authorship_tag": "ABX9TyNh/TO+OOnoF4zMMUZePKYS",
      "include_colab_link": true
    },
    "kernelspec": {
      "name": "python3",
      "display_name": "Python 3"
    },
    "language_info": {
      "name": "python"
    }
  },
  "cells": [
    {
      "cell_type": "markdown",
      "metadata": {
        "id": "view-in-github",
        "colab_type": "text"
      },
      "source": [
        "<a href=\"https://colab.research.google.com/github/DiegowAngel/Valores-Nulos/blob/main/Valores_Nulos.ipynb\" target=\"_parent\"><img src=\"https://colab.research.google.com/assets/colab-badge.svg\" alt=\"Open In Colab\"/></a>"
      ]
    },
    {
      "cell_type": "code",
      "execution_count": 1,
      "metadata": {
        "id": "WHgBr9OQZn2W"
      },
      "outputs": [],
      "source": [
        "# Se importan las librerías necesarias\n",
        "import pandas as pd\n",
        "import numpy as np\n",
        "import matplotlib.pyplot as plt"
      ]
    },
    {
      "cell_type": "code",
      "source": [
        "#Cargamos csv\n",
        "from google.colab import files\n",
        "!wget https://github.com/DiegowAngel/Valores-Nulos/blob/main/Ventas_totales.csv\n",
        "# Utilicé el método wget debido a que me resulta más cómodo que seleccionar el archivo desde mi ordenador"
      ],
      "metadata": {
        "id": "OPIg-RgiZwVk"
      },
      "execution_count": null,
      "outputs": []
    },
    {
      "cell_type": "code",
      "source": [
        "dt = pd.read_csv(\"Ventas_totales.csv\")\n",
        "dt.head(5)"
      ],
      "metadata": {
        "id": "qrMxkrteeqPK"
      },
      "execution_count": null,
      "outputs": []
    },
    {
      "cell_type": "code",
      "source": [
        "# Se identifican los valores nulos presentes en el programa\n",
        "v_n=dt.isnull().sum()\n",
        "v_n"
      ],
      "metadata": {
        "id": "l6CXO9nKezSd"
      },
      "execution_count": null,
      "outputs": []
    },
    {
      "cell_type": "code",
      "source": [
        "# Limpieza por promedio\n",
        "dt[\"tarjetas_debito\"]=dt[\"tarjetas_debito\"].fillna(round(dt[\"tarjetas_debito\"].mean(),1))\n",
        "dt[\"tarjetas_credito\"]=dt[\"tarjetas_credito\"].fillna(round(dt[\"tarjetas_credito\"].mean(),1))\n",
        "# Se sustituye por medio del promedio, los valores de \"tarjetas debito\" y \"tarjetas credito\""
      ],
      "metadata": {
        "id": "grsu06qQfVK6"
      },
      "execution_count": 38,
      "outputs": []
    },
    {
      "cell_type": "code",
      "source": [
        "v_n=dt.isnull().sum()\n",
        "v_n"
      ],
      "metadata": {
        "id": "0cH9Cosmfl62"
      },
      "execution_count": null,
      "outputs": []
    },
    {
      "cell_type": "code",
      "source": [
        "# Limpieza por mediana\n",
        "dt[\"salon_ventas\"]=dt[\"salon_ventas\"].fillna(round(dt[\"salon_ventas\"].median(),1))\n",
        "# Se sustituye por medio de la mediana, los valores de \"salon_ventas\""
      ],
      "metadata": {
        "id": "KerM2jqPhIGW"
      },
      "execution_count": 24,
      "outputs": []
    },
    {
      "cell_type": "code",
      "source": [
        "v_n=dt.isnull().sum()\n",
        "v_n"
      ],
      "metadata": {
        "id": "7rKKZQw4iahZ"
      },
      "execution_count": null,
      "outputs": []
    },
    {
      "cell_type": "code",
      "source": [
        "# Sustitución por constante\n",
        "dt[\"electronicos_articulos_hogar\"]=dt[\"electronicos_articulos_hogar\"].fillna(1838507.096)\n",
        "# Se sustituye por una constante (1838507.096), esta constante la tomé de la base de datos."
      ],
      "metadata": {
        "id": "x2Va5T2Cisf1"
      },
      "execution_count": 25,
      "outputs": []
    },
    {
      "cell_type": "code",
      "source": [
        "v_n=dt.isnull().sum()\n",
        "v_n"
      ],
      "metadata": {
        "id": "Ybhg9wp4k4Bl"
      },
      "execution_count": null,
      "outputs": []
    },
    {
      "cell_type": "code",
      "source": [
        "# Sustitución por string\n",
        "dt[\"subtotal_ventas_alimentos_bebidas\"]=dt[\"subtotal_ventas_alimentos_bebidas\"].fillna(\"Hola soy un string de relleno\")\n",
        "# Se sustituye por string una sola fila \"subtotal ventas alimentos bebidas\""
      ],
      "metadata": {
        "id": "fJ56MVL2i7Gj"
      },
      "execution_count": 27,
      "outputs": []
    },
    {
      "cell_type": "code",
      "source": [
        "v_n=dt.isnull().sum()\n",
        "v_n"
      ],
      "metadata": {
        "id": "n-OYt29kk4-5"
      },
      "execution_count": null,
      "outputs": []
    },
    {
      "cell_type": "code",
      "source": [
        "# Forward fill\n",
        "dt[\"otros\"]=dt[\"otros\"].fillna(method=\"ffill\")\n",
        "# Se utiliza el método forward fill, para rellenar parte de las últimas filas faltantes"
      ],
      "metadata": {
        "id": "seABcrDIjr74"
      },
      "execution_count": 28,
      "outputs": []
    },
    {
      "cell_type": "code",
      "source": [
        "v_n=dt.isnull().sum()\n",
        "v_n"
      ],
      "metadata": {
        "id": "EmUhMlb6k5lQ"
      },
      "execution_count": null,
      "outputs": []
    },
    {
      "cell_type": "code",
      "source": [
        "# Backward fill\n",
        "dt[\"indumentaria_calzado_textiles_hogar\"]=dt[\"indumentaria_calzado_textiles_hogar\"].fillna(method=\"bfill\")\n",
        "# Se utiliza el método backward fill, para rellenar parte de las últimas filas faltantes"
      ],
      "metadata": {
        "id": "mB0bQZIYj48H"
      },
      "execution_count": 29,
      "outputs": []
    },
    {
      "cell_type": "code",
      "source": [
        "v_n=dt.isnull().sum()\n",
        "v_n"
      ],
      "metadata": {
        "id": "YEFVdFCNk6IE"
      },
      "execution_count": null,
      "outputs": []
    },
    {
      "cell_type": "code",
      "source": [
        "# El cazador de Nans, el DROPNA\n",
        "# En este punto se utiliza DROPNA debido a que se considera que la cantidad de datos restantes no es tan relevante (son filas con 1 solo dato nulo)\n",
        "dt=dt.dropna()\n",
        "v_n=dt.isnull().sum()\n",
        "v_n"
      ],
      "metadata": {
        "id": "W4xjnnJokHJm"
      },
      "execution_count": null,
      "outputs": []
    }
  ]
}